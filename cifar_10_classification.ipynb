{
 "cells": [
  {
   "cell_type": "markdown",
   "id": "59a9780d",
   "metadata": {
    "id": "59a9780d"
   },
   "source": [
    "Task3: Please construct a classification algorithm, based on deep neural network, classifying images from CIFAR-10 dataset.\n",
    "\n",
    "To construct the algorithm you should use the CIFAR-10 training dataset and then use the validation dataset to evaluate the accuracy of the model after each epoch of training.\n",
    "\n",
    "The solution should be a .ipynb file with Python code loading the data, performing any necessary data transformations, training the described classifier and generating plots of the model accuracy on both training and validation data after each epoch of training. The training procedure should use \"patient early stopping\" and save the parameters of the best model to a file. After training, the saved model should be loaded from the file and applied to the validation data to calculate and print the accuracy achieved on this data.\n",
    "\n",
    "Trained model should score at least 70% accuracy on validation data.\n",
    "\n",
    "***Hints:***\n",
    "- Think what the \"input shape\" should be.\n",
    "- The model should be a deep neural network, but its architecture is up to you."
   ]
  },
  {
   "cell_type": "code",
   "execution_count": 1,
   "id": "764794ce",
   "metadata": {
    "ExecuteTime": {
     "start_time": "2023-06-05T12:06:34.699657Z",
     "end_time": "2023-06-05T12:06:34.699657Z"
    },
    "id": "764794ce"
   },
   "outputs": [],
   "source": [
    "import numpy as np\n",
    "import matplotlib.pyplot as plt\n",
    "import tensorflow as tf\n",
    "from tensorflow.keras import Sequential\n",
    "from tensorflow.keras.layers import Dense, Flatten, Conv2D, MaxPooling2D, Dropout, BatchNormalization\n",
    "\n",
    "%matplotlib inline"
   ]
  },
  {
   "cell_type": "markdown",
   "source": [
    "#### Loading data"
   ],
   "metadata": {
    "collapsed": false,
    "id": "RKFjnNFCFm_s"
   },
   "id": "RKFjnNFCFm_s"
  },
  {
   "cell_type": "code",
   "execution_count": 2,
   "outputs": [],
   "source": [
    "(X_train, y_train), (X_val, y_val) = tf.keras.datasets.cifar10.load_data()\n",
    "X_train = X_train.astype('float32')\n",
    "X_val = X_val.astype('float32')"
   ],
   "metadata": {
    "ExecuteTime": {
     "start_time": "2023-06-05T12:09:45.416621Z",
     "end_time": "2023-06-05T12:09:46.278947Z"
    },
    "id": "qOT3xxyyFm_s"
   },
   "id": "qOT3xxyyFm_s"
  },
  {
   "cell_type": "code",
   "source": [
    "X_train /= 255\n",
    "X_val /= 255"
   ],
   "metadata": {
    "id": "pEX2Zjd5IMgo"
   },
   "id": "pEX2Zjd5IMgo",
   "execution_count": 3,
   "outputs": []
  },
  {
   "cell_type": "code",
   "execution_count": 4,
   "outputs": [],
   "source": [
    "input_shape = X_train.shape[1:]"
   ],
   "metadata": {
    "ExecuteTime": {
     "start_time": "2023-06-05T12:09:47.276859Z",
     "end_time": "2023-06-05T12:09:47.292492Z"
    },
    "id": "CGeP9KC1Fm_s"
   },
   "id": "CGeP9KC1Fm_s"
  },
  {
   "cell_type": "markdown",
   "source": [
    "#### Creating model"
   ],
   "metadata": {
    "collapsed": false,
    "id": "C4cxlVbgFm_t"
   },
   "id": "C4cxlVbgFm_t"
  },
  {
   "cell_type": "code",
   "execution_count": 5,
   "outputs": [],
   "source": [
    "def create_model():\n",
    "    res = Sequential()\n",
    "    res.add(Conv2D(32, kernel_size=(3,3), activation='relu', padding='same', input_shape=input_shape))\n",
    "    res.add(BatchNormalization())\n",
    "    res.add(Conv2D(32, kernel_size=(3,3), activation='relu', padding='same'))\n",
    "    res.add(BatchNormalization())\n",
    "    res.add(MaxPooling2D(pool_size=(2,2)))\n",
    "    res.add(Dropout(0.4))\n",
    "    \n",
    "    res.add(Conv2D(64, kernel_size=(3,3), activation='relu', padding='same'))\n",
    "    res.add(BatchNormalization())\n",
    "    res.add(Conv2D(64, kernel_size=(3,3), activation='relu', padding='same'))\n",
    "    res.add(BatchNormalization())\n",
    "    res.add(MaxPooling2D(pool_size=(2,2)))\n",
    "    res.add(Dropout(0.4))\n",
    "    \n",
    "    res.add(Conv2D(128, kernel_size=(3,3), activation='relu', padding='same'))\n",
    "    res.add(BatchNormalization())\n",
    "    res.add(Conv2D(128, kernel_size=(3,3), activation='relu', padding='same'))\n",
    "    res.add(BatchNormalization())\n",
    "    res.add(MaxPooling2D(pool_size=(2,2)))\n",
    "    res.add(Dropout(0.4))\n",
    "\n",
    "    res.add(Conv2D(256, kernel_size=(3,3), activation='relu', padding='same'))\n",
    "    res.add(BatchNormalization())\n",
    "    res.add(Conv2D(256, kernel_size=(3,3), activation='relu', padding='same'))\n",
    "    res.add(BatchNormalization())\n",
    "    res.add(MaxPooling2D(pool_size=(2,2)))\n",
    "    res.add(Dropout(0.4))\n",
    "    \n",
    "    res.add(Flatten())\n",
    "    res.add(Dropout(0.2))\n",
    "    res.add(Dense(256, activation='relu'))\n",
    "    res.add(BatchNormalization())\n",
    "    res.add(Dropout(0.5))\n",
    "    res.add(Dense(10, activation='softmax'))\n",
    "\n",
    "    return res"
   ],
   "metadata": {
    "ExecuteTime": {
     "start_time": "2023-06-05T12:15:30.277673Z",
     "end_time": "2023-06-05T12:15:30.308970Z"
    },
    "id": "kOvraLMDFm_t"
   },
   "id": "kOvraLMDFm_t"
  },
  {
   "cell_type": "code",
   "execution_count": 6,
   "outputs": [
    {
     "output_type": "stream",
     "name": "stdout",
     "text": [
      "Model: \"sequential\"\n",
      "_________________________________________________________________\n",
      " Layer (type)                Output Shape              Param #   \n",
      "=================================================================\n",
      " conv2d (Conv2D)             (None, 32, 32, 32)        896       \n",
      "                                                                 \n",
      " batch_normalization (BatchN  (None, 32, 32, 32)       128       \n",
      " ormalization)                                                   \n",
      "                                                                 \n",
      " conv2d_1 (Conv2D)           (None, 32, 32, 32)        9248      \n",
      "                                                                 \n",
      " batch_normalization_1 (Batc  (None, 32, 32, 32)       128       \n",
      " hNormalization)                                                 \n",
      "                                                                 \n",
      " max_pooling2d (MaxPooling2D  (None, 16, 16, 32)       0         \n",
      " )                                                               \n",
      "                                                                 \n",
      " dropout (Dropout)           (None, 16, 16, 32)        0         \n",
      "                                                                 \n",
      " conv2d_2 (Conv2D)           (None, 16, 16, 64)        18496     \n",
      "                                                                 \n",
      " batch_normalization_2 (Batc  (None, 16, 16, 64)       256       \n",
      " hNormalization)                                                 \n",
      "                                                                 \n",
      " conv2d_3 (Conv2D)           (None, 16, 16, 64)        36928     \n",
      "                                                                 \n",
      " batch_normalization_3 (Batc  (None, 16, 16, 64)       256       \n",
      " hNormalization)                                                 \n",
      "                                                                 \n",
      " max_pooling2d_1 (MaxPooling  (None, 8, 8, 64)         0         \n",
      " 2D)                                                             \n",
      "                                                                 \n",
      " dropout_1 (Dropout)         (None, 8, 8, 64)          0         \n",
      "                                                                 \n",
      " conv2d_4 (Conv2D)           (None, 8, 8, 128)         73856     \n",
      "                                                                 \n",
      " batch_normalization_4 (Batc  (None, 8, 8, 128)        512       \n",
      " hNormalization)                                                 \n",
      "                                                                 \n",
      " conv2d_5 (Conv2D)           (None, 8, 8, 128)         147584    \n",
      "                                                                 \n",
      " batch_normalization_5 (Batc  (None, 8, 8, 128)        512       \n",
      " hNormalization)                                                 \n",
      "                                                                 \n",
      " max_pooling2d_2 (MaxPooling  (None, 4, 4, 128)        0         \n",
      " 2D)                                                             \n",
      "                                                                 \n",
      " dropout_2 (Dropout)         (None, 4, 4, 128)         0         \n",
      "                                                                 \n",
      " conv2d_6 (Conv2D)           (None, 4, 4, 256)         295168    \n",
      "                                                                 \n",
      " batch_normalization_6 (Batc  (None, 4, 4, 256)        1024      \n",
      " hNormalization)                                                 \n",
      "                                                                 \n",
      " conv2d_7 (Conv2D)           (None, 4, 4, 256)         590080    \n",
      "                                                                 \n",
      " batch_normalization_7 (Batc  (None, 4, 4, 256)        1024      \n",
      " hNormalization)                                                 \n",
      "                                                                 \n",
      " max_pooling2d_3 (MaxPooling  (None, 2, 2, 256)        0         \n",
      " 2D)                                                             \n",
      "                                                                 \n",
      " dropout_3 (Dropout)         (None, 2, 2, 256)         0         \n",
      "                                                                 \n",
      " flatten (Flatten)           (None, 1024)              0         \n",
      "                                                                 \n",
      " dropout_4 (Dropout)         (None, 1024)              0         \n",
      "                                                                 \n",
      " dense (Dense)               (None, 256)               262400    \n",
      "                                                                 \n",
      " batch_normalization_8 (Batc  (None, 256)              1024      \n",
      " hNormalization)                                                 \n",
      "                                                                 \n",
      " dropout_5 (Dropout)         (None, 256)               0         \n",
      "                                                                 \n",
      " dense_1 (Dense)             (None, 10)                2570      \n",
      "                                                                 \n",
      "=================================================================\n",
      "Total params: 1,442,090\n",
      "Trainable params: 1,439,658\n",
      "Non-trainable params: 2,432\n",
      "_________________________________________________________________\n"
     ]
    }
   ],
   "source": [
    "model = create_model()\n",
    "model.summary()"
   ],
   "metadata": {
    "ExecuteTime": {
     "start_time": "2023-06-05T12:15:30.968126Z",
     "end_time": "2023-06-05T12:15:31.083954Z"
    },
    "colab": {
     "base_uri": "https://localhost:8080/"
    },
    "id": "TzVPKCKYFm_t",
    "outputId": "96755568-ede3-486d-e3d9-6f1e6ad33285"
   },
   "id": "TzVPKCKYFm_t"
  },
  {
   "cell_type": "markdown",
   "source": [
    "#### Patient early stopping"
   ],
   "metadata": {
    "id": "w0rO2Cw7NKMn"
   },
   "id": "w0rO2Cw7NKMn"
  },
  {
   "cell_type": "code",
   "source": [
    "es = tf.keras.callbacks.EarlyStopping(monitor='val_loss', \n",
    "                                      mode='min', \n",
    "                                      verbose=1, \n",
    "                                      patience=5)\n",
    "\n",
    "mc = tf.keras.callbacks.ModelCheckpoint('best_model.hdf5', \n",
    "                                        monitor='val_accuracy', \n",
    "                                        mode='max', \n",
    "                                        verbose=1, \n",
    "                                        save_best_only=True)"
   ],
   "metadata": {
    "id": "-Avhix_MNJrY"
   },
   "id": "-Avhix_MNJrY",
   "execution_count": 7,
   "outputs": []
  },
  {
   "cell_type": "markdown",
   "source": [
    "#### Compiling model"
   ],
   "metadata": {
    "collapsed": false,
    "id": "qMD74WP4Fm_u"
   },
   "id": "qMD74WP4Fm_u"
  },
  {
   "cell_type": "code",
   "source": [
    "model.compile(optimizer='adam', \n",
    "              loss='sparse_categorical_crossentropy', \n",
    "              metrics=['accuracy'])"
   ],
   "metadata": {
    "id": "716FyyXNSBq3"
   },
   "id": "716FyyXNSBq3",
   "execution_count": 8,
   "outputs": []
  },
  {
   "cell_type": "code",
   "source": [
    "epochs = 50\n",
    "batch_size = 64"
   ],
   "metadata": {
    "id": "Ra_WsyC-SEKy"
   },
   "id": "Ra_WsyC-SEKy",
   "execution_count": 9,
   "outputs": []
  },
  {
   "cell_type": "code",
   "execution_count": 10,
   "outputs": [
    {
     "output_type": "stream",
     "name": "stdout",
     "text": [
      "Epoch 1/50\n",
      "782/782 [==============================] - ETA: 0s - loss: 1.8335 - accuracy: 0.3707\n",
      "Epoch 1: val_accuracy improved from -inf to 0.43620, saving model to best_model.hdf5\n",
      "782/782 [==============================] - 23s 17ms/step - loss: 1.8335 - accuracy: 0.3707 - val_loss: 1.6371 - val_accuracy: 0.4362\n",
      "Epoch 2/50\n",
      "781/782 [============================>.] - ETA: 0s - loss: 1.2182 - accuracy: 0.5646\n",
      "Epoch 2: val_accuracy improved from 0.43620 to 0.63300, saving model to best_model.hdf5\n",
      "782/782 [==============================] - 12s 15ms/step - loss: 1.2183 - accuracy: 0.5646 - val_loss: 1.0397 - val_accuracy: 0.6330\n",
      "Epoch 3/50\n",
      "780/782 [============================>.] - ETA: 0s - loss: 1.0040 - accuracy: 0.6472\n",
      "Epoch 3: val_accuracy improved from 0.63300 to 0.69520, saving model to best_model.hdf5\n",
      "782/782 [==============================] - 12s 16ms/step - loss: 1.0037 - accuracy: 0.6473 - val_loss: 0.8888 - val_accuracy: 0.6952\n",
      "Epoch 4/50\n",
      "781/782 [============================>.] - ETA: 0s - loss: 0.8683 - accuracy: 0.6972\n",
      "Epoch 4: val_accuracy did not improve from 0.69520\n",
      "782/782 [==============================] - 12s 15ms/step - loss: 0.8683 - accuracy: 0.6972 - val_loss: 1.0192 - val_accuracy: 0.6536\n",
      "Epoch 5/50\n",
      "781/782 [============================>.] - ETA: 0s - loss: 0.7832 - accuracy: 0.7314\n",
      "Epoch 5: val_accuracy improved from 0.69520 to 0.74290, saving model to best_model.hdf5\n",
      "782/782 [==============================] - 12s 15ms/step - loss: 0.7832 - accuracy: 0.7314 - val_loss: 0.7752 - val_accuracy: 0.7429\n",
      "Epoch 6/50\n",
      "780/782 [============================>.] - ETA: 0s - loss: 0.7138 - accuracy: 0.7552\n",
      "Epoch 6: val_accuracy improved from 0.74290 to 0.77390, saving model to best_model.hdf5\n",
      "782/782 [==============================] - 12s 15ms/step - loss: 0.7138 - accuracy: 0.7552 - val_loss: 0.6564 - val_accuracy: 0.7739\n",
      "Epoch 7/50\n",
      "782/782 [==============================] - ETA: 0s - loss: 0.6601 - accuracy: 0.7739\n",
      "Epoch 7: val_accuracy improved from 0.77390 to 0.79680, saving model to best_model.hdf5\n",
      "782/782 [==============================] - 12s 15ms/step - loss: 0.6601 - accuracy: 0.7739 - val_loss: 0.6028 - val_accuracy: 0.7968\n",
      "Epoch 8/50\n",
      "781/782 [============================>.] - ETA: 0s - loss: 0.6241 - accuracy: 0.7858\n",
      "Epoch 8: val_accuracy improved from 0.79680 to 0.81100, saving model to best_model.hdf5\n",
      "782/782 [==============================] - 12s 15ms/step - loss: 0.6243 - accuracy: 0.7857 - val_loss: 0.5660 - val_accuracy: 0.8110\n",
      "Epoch 9/50\n",
      "780/782 [============================>.] - ETA: 0s - loss: 0.5829 - accuracy: 0.7993\n",
      "Epoch 9: val_accuracy did not improve from 0.81100\n",
      "782/782 [==============================] - 12s 16ms/step - loss: 0.5832 - accuracy: 0.7993 - val_loss: 0.5992 - val_accuracy: 0.7974\n",
      "Epoch 10/50\n",
      "780/782 [============================>.] - ETA: 0s - loss: 0.5532 - accuracy: 0.8096\n",
      "Epoch 10: val_accuracy improved from 0.81100 to 0.82510, saving model to best_model.hdf5\n",
      "782/782 [==============================] - 12s 15ms/step - loss: 0.5532 - accuracy: 0.8096 - val_loss: 0.5155 - val_accuracy: 0.8251\n",
      "Epoch 11/50\n",
      "781/782 [============================>.] - ETA: 0s - loss: 0.5245 - accuracy: 0.8196\n",
      "Epoch 11: val_accuracy did not improve from 0.82510\n",
      "782/782 [==============================] - 12s 15ms/step - loss: 0.5245 - accuracy: 0.8196 - val_loss: 0.6477 - val_accuracy: 0.7841\n",
      "Epoch 12/50\n",
      "781/782 [============================>.] - ETA: 0s - loss: 0.5026 - accuracy: 0.8273\n",
      "Epoch 12: val_accuracy did not improve from 0.82510\n",
      "782/782 [==============================] - 12s 16ms/step - loss: 0.5026 - accuracy: 0.8273 - val_loss: 0.5441 - val_accuracy: 0.8180\n",
      "Epoch 13/50\n",
      "781/782 [============================>.] - ETA: 0s - loss: 0.4740 - accuracy: 0.8384\n",
      "Epoch 13: val_accuracy did not improve from 0.82510\n",
      "782/782 [==============================] - 12s 16ms/step - loss: 0.4740 - accuracy: 0.8384 - val_loss: 0.6479 - val_accuracy: 0.7864\n",
      "Epoch 14/50\n",
      "779/782 [============================>.] - ETA: 0s - loss: 0.4579 - accuracy: 0.8432\n",
      "Epoch 14: val_accuracy did not improve from 0.82510\n",
      "782/782 [==============================] - 12s 16ms/step - loss: 0.4579 - accuracy: 0.8433 - val_loss: 0.5723 - val_accuracy: 0.8150\n",
      "Epoch 15/50\n",
      "779/782 [============================>.] - ETA: 0s - loss: 0.4391 - accuracy: 0.8495\n",
      "Epoch 15: val_accuracy improved from 0.82510 to 0.83600, saving model to best_model.hdf5\n",
      "782/782 [==============================] - 13s 16ms/step - loss: 0.4397 - accuracy: 0.8493 - val_loss: 0.5060 - val_accuracy: 0.8360\n",
      "Epoch 16/50\n",
      "781/782 [============================>.] - ETA: 0s - loss: 0.4214 - accuracy: 0.8533\n",
      "Epoch 16: val_accuracy improved from 0.83600 to 0.84320, saving model to best_model.hdf5\n",
      "782/782 [==============================] - 12s 15ms/step - loss: 0.4214 - accuracy: 0.8533 - val_loss: 0.4815 - val_accuracy: 0.8432\n",
      "Epoch 17/50\n",
      "780/782 [============================>.] - ETA: 0s - loss: 0.4059 - accuracy: 0.8606\n",
      "Epoch 17: val_accuracy improved from 0.84320 to 0.85050, saving model to best_model.hdf5\n",
      "782/782 [==============================] - 12s 15ms/step - loss: 0.4057 - accuracy: 0.8606 - val_loss: 0.4661 - val_accuracy: 0.8505\n",
      "Epoch 18/50\n",
      "781/782 [============================>.] - ETA: 0s - loss: 0.3924 - accuracy: 0.8656\n",
      "Epoch 18: val_accuracy did not improve from 0.85050\n",
      "782/782 [==============================] - 13s 16ms/step - loss: 0.3925 - accuracy: 0.8655 - val_loss: 0.4776 - val_accuracy: 0.8443\n",
      "Epoch 19/50\n",
      "779/782 [============================>.] - ETA: 0s - loss: 0.3775 - accuracy: 0.8716\n",
      "Epoch 19: val_accuracy improved from 0.85050 to 0.85190, saving model to best_model.hdf5\n",
      "782/782 [==============================] - 12s 15ms/step - loss: 0.3772 - accuracy: 0.8717 - val_loss: 0.4538 - val_accuracy: 0.8519\n",
      "Epoch 20/50\n",
      "781/782 [============================>.] - ETA: 0s - loss: 0.3671 - accuracy: 0.8745\n",
      "Epoch 20: val_accuracy did not improve from 0.85190\n",
      "782/782 [==============================] - 12s 16ms/step - loss: 0.3671 - accuracy: 0.8745 - val_loss: 0.4700 - val_accuracy: 0.8462\n",
      "Epoch 21/50\n",
      "779/782 [============================>.] - ETA: 0s - loss: 0.3567 - accuracy: 0.8780\n",
      "Epoch 21: val_accuracy did not improve from 0.85190\n",
      "782/782 [==============================] - 12s 16ms/step - loss: 0.3564 - accuracy: 0.8781 - val_loss: 0.5175 - val_accuracy: 0.8372\n",
      "Epoch 22/50\n",
      "779/782 [============================>.] - ETA: 0s - loss: 0.3443 - accuracy: 0.8809\n",
      "Epoch 22: val_accuracy improved from 0.85190 to 0.85280, saving model to best_model.hdf5\n",
      "782/782 [==============================] - 12s 15ms/step - loss: 0.3443 - accuracy: 0.8809 - val_loss: 0.4743 - val_accuracy: 0.8528\n",
      "Epoch 23/50\n",
      "782/782 [==============================] - ETA: 0s - loss: 0.3341 - accuracy: 0.8854\n",
      "Epoch 23: val_accuracy did not improve from 0.85280\n",
      "782/782 [==============================] - 12s 15ms/step - loss: 0.3341 - accuracy: 0.8854 - val_loss: 0.4783 - val_accuracy: 0.8510\n",
      "Epoch 24/50\n",
      "781/782 [============================>.] - ETA: 0s - loss: 0.3282 - accuracy: 0.8854\n",
      "Epoch 24: val_accuracy did not improve from 0.85280\n",
      "782/782 [==============================] - 12s 15ms/step - loss: 0.3282 - accuracy: 0.8854 - val_loss: 0.4674 - val_accuracy: 0.8519\n",
      "Epoch 24: early stopping\n"
     ]
    }
   ],
   "source": [
    "history = model.fit(X_train, y_train,\n",
    "                    epochs=epochs, \n",
    "                    batch_size=batch_size,\n",
    "                    verbose=1,\n",
    "                    validation_data=(X_val, y_val),\n",
    "                    callbacks=[es, mc])"
   ],
   "metadata": {
    "ExecuteTime": {
     "start_time": "2023-06-05T12:17:53.794797Z",
     "end_time": "2023-06-05T12:22:44.279732Z"
    },
    "colab": {
     "base_uri": "https://localhost:8080/"
    },
    "id": "6mVZRXCtFm_u",
    "outputId": "05cd3450-f52a-4708-d4e3-2da4188c7131"
   },
   "id": "6mVZRXCtFm_u"
  },
  {
   "cell_type": "code",
   "source": [
    "fig, (ax1, ax2) = plt.subplots(1, 2, figsize=(12,4))\n",
    "\n",
    "ax1.plot(history.history['accuracy'])\n",
    "ax1.plot(history.history['val_accuracy'])\n",
    "ax1.set_title('model accuracy')\n",
    "ax1.set_ylabel('accuracy')\n",
    "ax1.set_xlabel('epoch')\n",
    "ax1.legend(['trainining dataset', 'validation dataset'], loc='upper left')\n",
    "\n",
    "ax2.plot(history.history['loss'])\n",
    "ax2.plot(history.history['val_loss'])\n",
    "ax2.set_title('model loss')\n",
    "ax2.set_ylabel('loss')\n",
    "ax2.set_xlabel('epoch')\n",
    "ax2.legend(['trainining dataset', 'validation dataset'], loc='upper left')\n",
    "\n",
    "plt.show()"
   ],
   "metadata": {
    "colab": {
     "base_uri": "https://localhost:8080/",
     "height": 410
    },
    "id": "B-EgvOQuJOSl",
    "outputId": "d2e36182-90fd-47b8-f209-192d9802283f"
   },
   "id": "B-EgvOQuJOSl",
   "execution_count": 11,
   "outputs": [
    {
     "output_type": "display_data",
     "data": {
      "text/plain": [
       "<Figure size 1200x400 with 2 Axes>"
      ],
      "image/png": "[encoded data removed]"
     },
     "metadata": {}
    }
   ]
  },
  {
   "cell_type": "markdown",
   "source": [
    "#### Loading and evaluating the best model"
   ],
   "metadata": {
    "id": "sPdtz-G_N49s"
   },
   "id": "sPdtz-G_N49s"
  },
  {
   "cell_type": "code",
   "source": [
    "best_model = tf.keras.models.load_model('best_model.hdf5')"
   ],
   "metadata": {
    "id": "a2262-MrKGfG"
   },
   "id": "a2262-MrKGfG",
   "execution_count": 12,
   "outputs": []
  },
  {
   "cell_type": "code",
   "source": [
    "loss_val, acc_val = best_model.evaluate(X_val, y_val, verbose=1)"
   ],
   "metadata": {
    "colab": {
     "base_uri": "https://localhost:8080/"
    },
    "id": "aBd5CSHNOD6v",
    "outputId": "1d193d3b-273b-47f4-c68a-2ab7697054ba"
   },
   "id": "aBd5CSHNOD6v",
   "execution_count": 13,
   "outputs": [
    {
     "output_type": "stream",
     "name": "stdout",
     "text": [
      "313/313 [==============================] - 2s 4ms/step - loss: 0.4743 - accuracy: 0.8528\n"
     ]
    }
   ]
  },
  {
   "cell_type": "code",
   "source": [
    "print(f'Best model\\'s accuracy on validation dataset: {acc_val:.3f}')"
   ],
   "metadata": {
    "colab": {
     "base_uri": "https://localhost:8080/"
    },
    "id": "NXusItN0Owem",
    "outputId": "8932701e-478c-4fd5-b53b-1fa68b8390e5"
   },
   "id": "NXusItN0Owem",
   "execution_count": 14,
   "outputs": [
    {
     "output_type": "stream",
     "name": "stdout",
     "text": [
      "Best model's accuracy on validation dataset: 0.853\n"
     ]
    }
   ]
  }
 ],
 "metadata": {
  "kernelspec": {
   "display_name": "Python 3",
   "name": "python3"
  },
  "language_info": {
   "codemirror_mode": {
    "name": "ipython",
    "version": 3
   },
   "file_extension": ".py",
   "mimetype": "text/x-python",
   "name": "python",
   "nbconvert_exporter": "python",
   "pygments_lexer": "ipython3",
   "version": "3.9.16"
  },
  "colab": {
   "provenance": [],
   "gpuType": "T4"
  },
  "accelerator": "GPU"
 },
 "nbformat": 4,
 "nbformat_minor": 5
}
